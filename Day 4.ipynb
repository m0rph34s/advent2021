{
 "cells": [
  {
   "cell_type": "markdown",
   "id": "6235ae93-56aa-4d2d-b011-fff2ebbf81c7",
   "metadata": {},
   "source": [
    "# Star 1"
   ]
  },
  {
   "cell_type": "code",
   "execution_count": 186,
   "id": "add97b93-8677-4e85-bd34-6b791f842228",
   "metadata": {},
   "outputs": [],
   "source": [
    "from collections import defaultdict\n",
    "# parse the input file, and return the numbers that will get called, the boards, and their equivalents for marking\n",
    "def get_call_nums_and_boards_from_file(filename=''):\n",
    "    with open(filename, \"r\") as f:\n",
    "        # top line will be the numbers that get called\n",
    "        call_nums = [int(x) for x in f.readline().strip('\\n').split(',')]\n",
    "        boards = [[]]\n",
    "        marked_boards = [[]]\n",
    "        board_counter = 0\n",
    "        f.readline() # strip off the top blank\n",
    "        # the rest of the lines represent boards, separated by newlines\n",
    "        for line in f:\n",
    "            if (line == '\\n'):\n",
    "                board_counter +=1\n",
    "                boards.append([])\n",
    "                marked_boards.append([])\n",
    "            else:\n",
    "                #boards[board_counter].append(line.strip('\\n').split())\n",
    "                boards[board_counter].append([int(x) for x in (line.strip('\\n').split())])\n",
    "                marked_boards[board_counter].append([0, 0, 0, 0, 0])\n",
    "        return call_nums, boards, marked_boards\n",
    "            \n",
    "# look at the marked board and check if it's a winner\n",
    "def check_win(marked_board, row, column):\n",
    "    if marked_board[row] == [1, 1, 1, 1, 1]:\n",
    "        return True\n",
    "    for row in range(5):\n",
    "        if marked_board[row][column] == 0:\n",
    "            return False\n",
    "    return True\n",
    "\n",
    "# Start calling the numbers and marking boards...\n",
    "# This nested for loop monstrosity would make leetcode cry\n",
    "def play_bingo(call_nums, boards, marked_boards):\n",
    "    for call_num in call_nums:                           # call each number\n",
    "        for row in range(5):                             # check each board across all rows\n",
    "            for column in range(5):                      # check each board across all columns\n",
    "                for (boardnum, board) in enumerate(boards): # go thru all the boards\n",
    "                    if board[row][column] == call_num:\n",
    "                        # mark the relevant board if the number matches\n",
    "                        marked_boards[boardnum][row][column] = 1\n",
    "                        # only need to check whether we have a winner when we have a match\n",
    "                        if (check_win(marked_boards[boardnum], row, column)):\n",
    "                            return (boardnum, board, marked_boards[boardnum],call_num)\n",
    "\n",
    "# get the score of the winning board\n",
    "def calculate_score(marked_board, board, last_called):\n",
    "    sum_unmarked = 0\n",
    "    for row in range(5):\n",
    "        for column in range(5):\n",
    "            if marked_board[row][column] == 0:\n",
    "                sum_unmarked += board[row][column]\n",
    "    score = sum_unmarked * last_called\n",
    "    return score"
   ]
  },
  {
   "cell_type": "code",
   "execution_count": 187,
   "id": "90812a6e-5c37-4b58-9293-5a3a04276bc2",
   "metadata": {},
   "outputs": [
    {
     "data": {
      "text/plain": [
       "51034"
      ]
     },
     "execution_count": 187,
     "metadata": {},
     "output_type": "execute_result"
    }
   ],
   "source": [
    "(call_nums, boards, marked_boards) = get_call_nums_and_boards_from_file(filename='day4_input.txt')\n",
    "(boardnum, board, marked_board, last_called) = play_bingo(call_nums, boards, marked_boards)\n",
    "calculate_score(marked_board, board, last_called)"
   ]
  },
  {
   "cell_type": "markdown",
   "id": "b11d6796-a308-4b7d-9db5-05277c2c2e89",
   "metadata": {},
   "source": [
    "# Star 2"
   ]
  },
  {
   "cell_type": "code",
   "execution_count": null,
   "id": "f56ba5ce-f40b-4c83-8368-dc5f299e6759",
   "metadata": {},
   "outputs": [],
   "source": []
  },
  {
   "cell_type": "code",
   "execution_count": null,
   "id": "71bc3681-68db-4d93-bdfb-3000732e2d7c",
   "metadata": {},
   "outputs": [],
   "source": []
  }
 ],
 "metadata": {
  "kernelspec": {
   "display_name": "Python 3 (ipykernel)",
   "language": "python",
   "name": "python3"
  },
  "language_info": {
   "codemirror_mode": {
    "name": "ipython",
    "version": 3
   },
   "file_extension": ".py",
   "mimetype": "text/x-python",
   "name": "python",
   "nbconvert_exporter": "python",
   "pygments_lexer": "ipython3",
   "version": "3.11.7"
  }
 },
 "nbformat": 4,
 "nbformat_minor": 5
}
