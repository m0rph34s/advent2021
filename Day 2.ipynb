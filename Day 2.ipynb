{
 "cells": [
  {
   "cell_type": "markdown",
   "id": "1eb6ab6f-be13-4a5a-b44a-f0e81cf93ab1",
   "metadata": {},
   "source": [
    "# Star 1"
   ]
  },
  {
   "cell_type": "code",
   "execution_count": 15,
   "id": "fe0e0dc9-a9a0-4549-b758-9fc58b4e6443",
   "metadata": {},
   "outputs": [],
   "source": [
    "xpos = 0\n",
    "depth = 0\n",
    "f= open(\"day2_input.txt\",\"r\")\n",
    "for line in f:\n",
    "    amount = int(line.rstrip()[-1])\n",
    "    if \"forward\" in line:\n",
    "        xpos += amount\n",
    "    elif \"down\" in line:\n",
    "        depth += amount\n",
    "    elif \"up\" in line:\n",
    "        depth -= amount\n",
    "    else:\n",
    "        print(\"Sad error\")\n",
    "        "
   ]
  },
  {
   "cell_type": "code",
   "execution_count": 17,
   "id": "8fac37e5-8a7f-4e04-acbb-e9ed23490cf3",
   "metadata": {},
   "outputs": [
    {
     "name": "stdout",
     "output_type": "stream",
     "text": [
      "1383564\n"
     ]
    }
   ],
   "source": [
    "print(xpos * depth)"
   ]
  },
  {
   "cell_type": "markdown",
   "id": "23b7e21c-da24-4d4c-b2fb-fd6a3b4a0c7c",
   "metadata": {},
   "source": [
    "# Star 2"
   ]
  },
  {
   "cell_type": "code",
   "execution_count": null,
   "id": "27b406a1-35cc-4d90-9a81-786969d6bf72",
   "metadata": {},
   "outputs": [],
   "source": []
  }
 ],
 "metadata": {
  "kernelspec": {
   "display_name": "Python 3 (ipykernel)",
   "language": "python",
   "name": "python3"
  },
  "language_info": {
   "codemirror_mode": {
    "name": "ipython",
    "version": 3
   },
   "file_extension": ".py",
   "mimetype": "text/x-python",
   "name": "python",
   "nbconvert_exporter": "python",
   "pygments_lexer": "ipython3",
   "version": "3.11.7"
  }
 },
 "nbformat": 4,
 "nbformat_minor": 5
}
