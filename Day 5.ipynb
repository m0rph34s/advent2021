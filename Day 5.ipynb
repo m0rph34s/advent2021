{
 "cells": [
  {
   "cell_type": "markdown",
   "id": "fe2a29b5-180e-4ff5-a362-d3245c4e16ac",
   "metadata": {},
   "source": [
    "# Star 1"
   ]
  },
  {
   "cell_type": "code",
   "execution_count": 102,
   "id": "46da55d6-95a6-45db-84da-43d63b0b7f45",
   "metadata": {},
   "outputs": [],
   "source": [
    "import numpy as np"
   ]
  },
  {
   "cell_type": "code",
   "execution_count": 30,
   "id": "af23719c-4ba1-4e20-8e16-6d13dac68997",
   "metadata": {},
   "outputs": [],
   "source": [
    "def format_line(line):\n",
    "    endpoints = line.rstrip().split('->')\n",
    "    endpoints[0] = endpoints[0].rstrip()\n",
    "    endpoints[1] = endpoints[1][1:]\n",
    "    endpoints[0] = [int(x) for x in endpoints[0].split(',')]\n",
    "    endpoints[1] = [int(x) for x in endpoints[1].split(',')]\n",
    "    return endpoints"
   ]
  },
  {
   "cell_type": "code",
   "execution_count": 221,
   "id": "6a4632b7-16f4-46a2-ad44-d4b43b640077",
   "metadata": {},
   "outputs": [],
   "source": [
    "def get_lines_from_file(filename = ''):\n",
    "    lines = []\n",
    "    max_x = 0\n",
    "    max_y = 0\n",
    "    with open(filename, 'r') as f:\n",
    "        for line in f:\n",
    "            # only keep lines that are horizontal or vertical\n",
    "            endpoints = format_line(line)\n",
    "            if ((endpoints[0][0] == endpoints[1][0]) or (endpoints[0][1] == endpoints[1][1])):\n",
    "                lines.append(endpoints)\n",
    "                if (endpoints[0][0]) > max_x:\n",
    "                    max_x = endpoints[0][0] \n",
    "                if (endpoints[1][0]) > max_x:\n",
    "                    max_x = endpoints[1][0]\n",
    "                if (endpoints[0][1]) > max_y:\n",
    "                    max_y = endpoints[0][1]\n",
    "                if (endpoints[1][1]) > max_y:\n",
    "                    max_y = endpoints[1][1]\n",
    "        return lines, max_x, max_y\n",
    "\n",
    "def update_matrix(lines, max_x, max_y):\n",
    "    num_danger_points = 0\n",
    "    # Make a 0s matrix representing the terrain \n",
    "    #matrix = [[0 for x in range(max_x)] for y in range(max_y)] \n",
    "    matrix = np.zeros((max_x +1,max_y+1))\n",
    "    # Go thru the hydrothermal vent lines and populate the matrix with the number of lines going thru a given point\n",
    "    for line in lines:\n",
    "        # lazy girl not optimized method, can also check which way the line actually goes but wutev\n",
    "        # for x in range(abs(line[1][0]-line[0][0])):\n",
    "        #     for y in range(abs(line[1][1]-line[0][1])):\n",
    "        #         matrix[x][y] += 1\n",
    "\n",
    "        # Extract the two endpoint coordinates (x0, y0) and (x1, y1) from the line\n",
    "        x1 = line[1][0]\n",
    "        x0 = line[0][0]\n",
    "        y1 = line[1][1]\n",
    "        y0 = line[0][1]\n",
    "\n",
    "        # The +1 in X and Y is cause compensating for range end not being inclusive\n",
    "        # walk in X\n",
    "        for x in range(min(x1, x0), min(x1,x0) + abs(x1-x0) + 1):\n",
    "        #for x in range(min(x1, x0), min(x1,x0) + abs(x1-x0)):\n",
    "            # walk in Y\n",
    "            for y in range(min(y1, y0), min(y1,y0) + abs(y1-y0) + 1):\n",
    "            #for y in range(min(y1, y0), min(y1,y0) + abs(y1-y0)):\n",
    "                matrix[x][y] += 1\n",
    "                #matrix[y][x] += 1\n",
    "    for x in range(max_x+1):\n",
    "        for y in range(max_y+1):\n",
    "            if matrix[x][y] > 1:\n",
    "           # print(x,y)\n",
    "            #if matrix[x][y] > 0:\n",
    "                num_danger_points += 1\n",
    "    \n",
    "    return num_danger_points, matrix"
   ]
  },
  {
   "cell_type": "code",
   "execution_count": 222,
   "id": "1be3f766-7e29-4bad-85f8-ced8caf9bc8c",
   "metadata": {},
   "outputs": [],
   "source": [
    "(lines, max_x, max_y) = get_lines_from_file('day5_input.txt')"
   ]
  },
  {
   "cell_type": "code",
   "execution_count": 223,
   "id": "42e2d40e-2c16-41e1-92a4-e4bc794f9692",
   "metadata": {},
   "outputs": [
    {
     "data": {
      "text/plain": [
       "[[[905, 103], [905, 82]], [[253, 13], [253, 546]]]"
      ]
     },
     "execution_count": 223,
     "metadata": {},
     "output_type": "execute_result"
    }
   ],
   "source": [
    "lines[0:2]"
   ]
  },
  {
   "cell_type": "code",
   "execution_count": 224,
   "id": "217dadec-4903-429c-9488-d5c6ad3a77bf",
   "metadata": {},
   "outputs": [],
   "source": [
    "stuff = [[[0, 9], [0,5]], [[4, 7], [0, 7]]]"
   ]
  },
  {
   "cell_type": "code",
   "execution_count": 225,
   "id": "4c1e9cf3-435e-44e1-b613-3a3513b6c75e",
   "metadata": {},
   "outputs": [
    {
     "name": "stdout",
     "output_type": "stream",
     "text": [
      "347 989 988\n"
     ]
    }
   ],
   "source": [
    "print(len(lines), max_x, max_y)"
   ]
  },
  {
   "cell_type": "code",
   "execution_count": 226,
   "id": "1a3cc1c7-8b35-47b7-a8e9-bdff45efb819",
   "metadata": {},
   "outputs": [],
   "source": [
    "#(num_danger_points, matrix) = update_matrix(stuff, 9, 9)\n",
    "#matrix\n",
    "(num_danger_points, matrix) = update_matrix(lines, max_x, max_y)"
   ]
  },
  {
   "cell_type": "code",
   "execution_count": 227,
   "id": "c34feb25-286c-42a7-979f-67ec5f6fdbb4",
   "metadata": {},
   "outputs": [
    {
     "name": "stdout",
     "output_type": "stream",
     "text": [
      "6267\n"
     ]
    }
   ],
   "source": [
    "print(num_danger_points)"
   ]
  },
  {
   "cell_type": "code",
   "execution_count": 207,
   "id": "bf9b3c0e-5765-4d49-9cb5-36cb78e2c780",
   "metadata": {},
   "outputs": [
    {
     "name": "stdout",
     "output_type": "stream",
     "text": [
      "250\n",
      "251\n",
      "252\n",
      "253\n",
      "254\n",
      "255\n"
     ]
    }
   ],
   "source": [
    "x0=255\n",
    "x1=250\n",
    "for i in range(min(x1, x0), min(x1,x0) + abs(x1-x0) + 1):\n",
    "    print(i)"
   ]
  },
  {
   "cell_type": "code",
   "execution_count": 83,
   "id": "4b91dc16-be42-48ca-a71a-34b4b70a05f1",
   "metadata": {},
   "outputs": [
    {
     "data": {
      "text/plain": [
       "[[0, 0, 0, 0, 0],\n",
       " [0, 0, 0, 0, 0],\n",
       " [0, 0, 0, 0, 0],\n",
       " [0, 0, 0, 0, 1],\n",
       " [0, 0, 0, 0, 0],\n",
       " [0, 0, 0, 0, 0],\n",
       " [0, 0, 0, 0, 0],\n",
       " [0, 0, 0, 0, 0],\n",
       " [0, 0, 0, 0, 0],\n",
       " [0, 0, 0, 0, 0]]"
      ]
     },
     "execution_count": 83,
     "metadata": {},
     "output_type": "execute_result"
    }
   ],
   "source": [
    "thingo[3][4]=1\n",
    "thingo"
   ]
  },
  {
   "cell_type": "code",
   "execution_count": 61,
   "id": "b0602402-89e0-44ab-b8a8-b97164afa318",
   "metadata": {},
   "outputs": [
    {
     "data": {
      "text/plain": [
       "range(9, 5)"
      ]
     },
     "execution_count": 61,
     "metadata": {},
     "output_type": "execute_result"
    }
   ],
   "source": [
    "range(9,5)"
   ]
  },
  {
   "cell_type": "code",
   "execution_count": 65,
   "id": "28a4dbc6-3971-4ba3-9ecf-f66620806501",
   "metadata": {},
   "outputs": [
    {
     "name": "stdout",
     "output_type": "stream",
     "text": [
      "5\n",
      "6\n",
      "7\n",
      "8\n"
     ]
    }
   ],
   "source": [
    "for x in range(min(5,9), min(5,9) + abs(5-9)):\n",
    "    print(x)"
   ]
  },
  {
   "cell_type": "code",
   "execution_count": null,
   "id": "82b48d9b-332d-430f-9d35-457c83a5058c",
   "metadata": {},
   "outputs": [],
   "source": []
  }
 ],
 "metadata": {
  "kernelspec": {
   "display_name": "Python 3 (ipykernel)",
   "language": "python",
   "name": "python3"
  },
  "language_info": {
   "codemirror_mode": {
    "name": "ipython",
    "version": 3
   },
   "file_extension": ".py",
   "mimetype": "text/x-python",
   "name": "python",
   "nbconvert_exporter": "python",
   "pygments_lexer": "ipython3",
   "version": "3.11.7"
  }
 },
 "nbformat": 4,
 "nbformat_minor": 5
}
