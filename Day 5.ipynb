{
 "cells": [
  {
   "cell_type": "markdown",
   "id": "fe2a29b5-180e-4ff5-a362-d3245c4e16ac",
   "metadata": {},
   "source": [
    "# Star 1"
   ]
  },
  {
   "cell_type": "code",
   "execution_count": 231,
   "id": "46da55d6-95a6-45db-84da-43d63b0b7f45",
   "metadata": {},
   "outputs": [],
   "source": [
    "import numpy as np"
   ]
  },
  {
   "cell_type": "code",
   "execution_count": 232,
   "id": "af23719c-4ba1-4e20-8e16-6d13dac68997",
   "metadata": {},
   "outputs": [],
   "source": [
    "def format_line(line):\n",
    "    endpoints = line.rstrip().split('->')\n",
    "    endpoints[0] = endpoints[0].rstrip()\n",
    "    endpoints[1] = endpoints[1][1:]\n",
    "    endpoints[0] = [int(x) for x in endpoints[0].split(',')]\n",
    "    endpoints[1] = [int(x) for x in endpoints[1].split(',')]\n",
    "    return endpoints"
   ]
  },
  {
   "cell_type": "code",
   "execution_count": 237,
   "id": "6a4632b7-16f4-46a2-ad44-d4b43b640077",
   "metadata": {},
   "outputs": [],
   "source": [
    "def get_lines_from_file(filename = ''):\n",
    "    lines = []\n",
    "    max_x = 0\n",
    "    max_y = 0\n",
    "    with open(filename, 'r') as f:\n",
    "        for line in f:\n",
    "            # only keep lines that are horizontal or vertical\n",
    "            endpoints = format_line(line)\n",
    "            if ((endpoints[0][0] == endpoints[1][0]) or (endpoints[0][1] == endpoints[1][1])):\n",
    "                lines.append(endpoints)\n",
    "                if (endpoints[0][0]) > max_x:\n",
    "                    max_x = endpoints[0][0] \n",
    "                if (endpoints[1][0]) > max_x:\n",
    "                    max_x = endpoints[1][0]\n",
    "                if (endpoints[0][1]) > max_y:\n",
    "                    max_y = endpoints[0][1]\n",
    "                if (endpoints[1][1]) > max_y:\n",
    "                    max_y = endpoints[1][1]\n",
    "        return lines, max_x, max_y\n",
    "\n",
    "def update_matrix(lines, max_x, max_y):\n",
    "    num_danger_points = 0\n",
    "    # Make a 0s matrix representing the terrain \n",
    "    #matrix = [[0 for x in range(max_x)] for y in range(max_y)] \n",
    "    matrix = np.zeros((max_x +1,max_y+1))\n",
    "    # Go thru the hydrothermal vent lines and populate the matrix with the number of lines going thru a given point\n",
    "    for line in lines:\n",
    "        \n",
    "        # Extract the two endpoint coordinates (x0, y0) and (x1, y1) from the line\n",
    "        x1 = line[1][0]\n",
    "        x0 = line[0][0]\n",
    "        y1 = line[1][1]\n",
    "        y0 = line[0][1]\n",
    "\n",
    "        # lazy girl not optimized method, can also check which way the line actually goes but wutev\n",
    "        # The +1 in X and Y is cause compensating for range end not being inclusive\n",
    "        # walk in X\n",
    "        for x in range(min(x1, x0), min(x1,x0) + abs(x1-x0) + 1):\n",
    "        #for x in range(min(x1, x0), min(x1,x0) + abs(x1-x0)):\n",
    "            # walk in Y\n",
    "            for y in range(min(y1, y0), min(y1,y0) + abs(y1-y0) + 1):\n",
    "            #for y in range(min(y1, y0), min(y1,y0) + abs(y1-y0)):\n",
    "                matrix[x][y] += 1\n",
    "                #matrix[y][x] += 1\n",
    "    for x in range(max_x+1):\n",
    "        for y in range(max_y+1):\n",
    "            if matrix[x][y] > 1:\n",
    "           # print(x,y)\n",
    "            #if matrix[x][y] > 0:\n",
    "                num_danger_points += 1\n",
    "    \n",
    "    return num_danger_points, matrix"
   ]
  },
  {
   "cell_type": "code",
   "execution_count": 238,
   "id": "1be3f766-7e29-4bad-85f8-ced8caf9bc8c",
   "metadata": {},
   "outputs": [],
   "source": [
    "(lines, max_x, max_y) = get_lines_from_file('day5_input.txt')"
   ]
  },
  {
   "cell_type": "code",
   "execution_count": 239,
   "id": "1a3cc1c7-8b35-47b7-a8e9-bdff45efb819",
   "metadata": {},
   "outputs": [],
   "source": [
    "(num_danger_points, matrix) = update_matrix(lines, max_x, max_y)"
   ]
  },
  {
   "cell_type": "code",
   "execution_count": 240,
   "id": "c34feb25-286c-42a7-979f-67ec5f6fdbb4",
   "metadata": {},
   "outputs": [
    {
     "name": "stdout",
     "output_type": "stream",
     "text": [
      "6267\n"
     ]
    }
   ],
   "source": [
    "print(num_danger_points)"
   ]
  },
  {
   "cell_type": "markdown",
   "id": "11c302bf-9822-4466-894a-3bdaf3da2930",
   "metadata": {},
   "source": [
    "# Star 2"
   ]
  },
  {
   "cell_type": "code",
   "execution_count": null,
   "id": "81a5eba3-6af0-4c3a-a87d-322fe7ae46d9",
   "metadata": {},
   "outputs": [],
   "source": []
  }
 ],
 "metadata": {
  "kernelspec": {
   "display_name": "Python 3 (ipykernel)",
   "language": "python",
   "name": "python3"
  },
  "language_info": {
   "codemirror_mode": {
    "name": "ipython",
    "version": 3
   },
   "file_extension": ".py",
   "mimetype": "text/x-python",
   "name": "python",
   "nbconvert_exporter": "python",
   "pygments_lexer": "ipython3",
   "version": "3.11.7"
  }
 },
 "nbformat": 4,
 "nbformat_minor": 5
}
