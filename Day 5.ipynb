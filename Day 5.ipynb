{
 "cells": [
  {
   "cell_type": "markdown",
   "id": "fe2a29b5-180e-4ff5-a362-d3245c4e16ac",
   "metadata": {},
   "source": [
    "# Star 1"
   ]
  },
  {
   "cell_type": "code",
   "execution_count": 231,
   "id": "46da55d6-95a6-45db-84da-43d63b0b7f45",
   "metadata": {},
   "outputs": [],
   "source": [
    "import numpy as np"
   ]
  },
  {
   "cell_type": "code",
   "execution_count": 232,
   "id": "af23719c-4ba1-4e20-8e16-6d13dac68997",
   "metadata": {},
   "outputs": [],
   "source": [
    "def format_line(line):\n",
    "    endpoints = line.rstrip().split('->')\n",
    "    endpoints[0] = endpoints[0].rstrip()\n",
    "    endpoints[1] = endpoints[1][1:]\n",
    "    endpoints[0] = [int(x) for x in endpoints[0].split(',')]\n",
    "    endpoints[1] = [int(x) for x in endpoints[1].split(',')]\n",
    "    return endpoints"
   ]
  },
  {
   "cell_type": "code",
   "execution_count": 310,
   "id": "6a4632b7-16f4-46a2-ad44-d4b43b640077",
   "metadata": {},
   "outputs": [],
   "source": [
    "def get_lines_from_file(filename = ''):\n",
    "    lines = []\n",
    "    max_x = 0\n",
    "    max_y = 0\n",
    "    with open(filename, 'r') as f:\n",
    "        for line in f:\n",
    "            # only keep lines that are horizontal or vertical\n",
    "            endpoints = format_line(line)\n",
    "            if ((endpoints[0][0] == endpoints[1][0]) or (endpoints[0][1] == endpoints[1][1])):\n",
    "                lines.append(endpoints)\n",
    "                if (endpoints[0][0]) > max_x:\n",
    "                    max_x = endpoints[0][0] \n",
    "                if (endpoints[1][0]) > max_x:\n",
    "                    max_x = endpoints[1][0]\n",
    "                if (endpoints[0][1]) > max_y:\n",
    "                    max_y = endpoints[0][1]\n",
    "                if (endpoints[1][1]) > max_y:\n",
    "                    max_y = endpoints[1][1]\n",
    "        return lines, max_x, max_y\n",
    "\n",
    "\n",
    "def update_matrix(lines, max_x, max_y):\n",
    "    # Make a 0s matrix representing the terrain \n",
    "    matrix = np.zeros((max_x +1,max_y+1))\n",
    "    \n",
    "    # Go thru the hydrothermal vent lines and populate the matrix with the number of lines going thru a given point\n",
    "    for line in lines:\n",
    "        # Extract the two endpoint coordinates (x0, y0) and (x1, y1) from the line\n",
    "        x1 = line[1][0]\n",
    "        x0 = line[0][0]\n",
    "        y1 = line[1][1]\n",
    "        y0 = line[0][1]\n",
    "\n",
    "        # lazy girl not optimized method, can also check which way the line actually goes but wutev\n",
    "        # The +1 in X and Y is cause compensating for range end not being inclusive\n",
    "        # walk in X\n",
    "        for x in range(min(x1, x0), min(x1,x0) + abs(x1-x0) + 1):\n",
    "            # walk in y\n",
    "            for y in range(min(y1, y0), min(y1,y0) + abs(y1-y0) + 1):\n",
    "                matrix[x][y] += 1\n",
    "                \n",
    "    return matrix\n",
    "\n",
    "def count_danger_points(matrix, max_x, max_y):\n",
    "# Count how many danger points there are\n",
    "    num_danger_points = 0\n",
    "    for x in range(max_x+1):\n",
    "        for y in range(max_y+1):\n",
    "            if matrix[x][y] > 1:\n",
    "                num_danger_points += 1\n",
    "    return num_danger_points"
   ]
  },
  {
   "cell_type": "code",
   "execution_count": 311,
   "id": "1be3f766-7e29-4bad-85f8-ced8caf9bc8c",
   "metadata": {},
   "outputs": [],
   "source": [
    "(lines, max_x, max_y) = get_lines_from_file('day5_input.txt')"
   ]
  },
  {
   "cell_type": "code",
   "execution_count": 312,
   "id": "1a3cc1c7-8b35-47b7-a8e9-bdff45efb819",
   "metadata": {},
   "outputs": [],
   "source": [
    "matrix = update_matrix(lines, max_x, max_y)"
   ]
  },
  {
   "cell_type": "code",
   "execution_count": 313,
   "id": "c34feb25-286c-42a7-979f-67ec5f6fdbb4",
   "metadata": {},
   "outputs": [
    {
     "data": {
      "text/plain": [
       "6267"
      ]
     },
     "execution_count": 313,
     "metadata": {},
     "output_type": "execute_result"
    }
   ],
   "source": [
    "count_danger_points(matrix, max_x, max_y)"
   ]
  },
  {
   "cell_type": "markdown",
   "id": "11c302bf-9822-4466-894a-3bdaf3da2930",
   "metadata": {},
   "source": [
    "# Star 2"
   ]
  },
  {
   "cell_type": "code",
   "execution_count": 326,
   "id": "81a5eba3-6af0-4c3a-a87d-322fe7ae46d9",
   "metadata": {},
   "outputs": [],
   "source": [
    "def get_lines_from_file2(filename = '', diagonal=False):\n",
    "    lines = []\n",
    "    max_x = 0\n",
    "    max_y = 0\n",
    "    with open(filename, 'r') as f:\n",
    "        for line in f:\n",
    "            # Assumption is the entire input is either horizontal, vertical, or diagonal lines\n",
    "            # If diagonals aren't allowed, only keep lines that are horizontal or vertical\n",
    "            # Otherwise keep all lines\n",
    "            endpoints = format_line(line)\n",
    "            \n",
    "            if (diagonal or ((endpoints[0][0] == endpoints[1][0]) or (endpoints[0][1] == endpoints[1][1]))):\n",
    "                lines.append(endpoints)\n",
    "                if (endpoints[0][0]) > max_x:\n",
    "                    max_x = endpoints[0][0] \n",
    "                if (endpoints[1][0]) > max_x:\n",
    "                    max_x = endpoints[1][0]\n",
    "                if (endpoints[0][1]) > max_y:\n",
    "                    max_y = endpoints[0][1]\n",
    "                if (endpoints[1][1]) > max_y:\n",
    "                    max_y = endpoints[1][1]\n",
    "        return lines, max_x, max_y\n",
    "\n",
    "def update_matrix2(lines, max_x, max_y):\n",
    "    \n",
    "    # Make a 0s matrix representing the terrain \n",
    "    matrix = np.zeros((max_x + 1,max_y + 1))\n",
    "    \n",
    "    # Go thru the hydrothermal vent lines and populate the matrix with the number of lines going thru a given point\n",
    "    for line in lines:\n",
    "        \n",
    "        # Extract the two endpoint coordinates (x0, y0) and (x1, y1) from the line\n",
    "        x1 = line[1][0]\n",
    "        x0 = line[0][0]\n",
    "        y1 = line[1][1]\n",
    "        y0 = line[0][1]\n",
    "\n",
    "        # Delta between the second point and the first point in the line\n",
    "        del_x = x1-x0\n",
    "        del_y = y1-y0\n",
    "\n",
    "        # The number of steps be will over whichever way we walk, direction is a separate thing\n",
    "        num_steps = max(abs(del_x), abs(del_y))\n",
    "\n",
    "        # For the delta steps, we only care about +/0/-, so normalize to 1/0/-1\n",
    "        # Also avoid zero div\n",
    "        if (del_x): \n",
    "            del_x //= abs(del_x)\n",
    "        if (del_y):\n",
    "            del_y //= abs(del_y)\n",
    "        \n",
    "        # Always start walking at the first point, (x0, y0)\n",
    "        (x, y) = (x0, y0)\n",
    "        \n",
    "        # Walk for the number of steps in the specified (del_x, del_y) direction\n",
    "        # the +1 is cause range isn't inclusive\n",
    "        for step in range(num_steps + 1):\n",
    "            matrix[x][y] += 1\n",
    "            x += del_x # update by the step in X and Y\n",
    "            y += del_y\n",
    "    \n",
    "    return matrix\n",
    "\n",
    "def count_danger_points2(matrix, max_x, max_y):\n",
    "# Sassier version of the above\n",
    "    danger_matrix = (matrix > 1)\n",
    "    num_danger_points = danger_matrix.sum()\n",
    "    return num_danger_points"
   ]
  },
  {
   "cell_type": "code",
   "execution_count": 327,
   "id": "0349960f-e006-4b9d-9e30-739307799a55",
   "metadata": {},
   "outputs": [
    {
     "data": {
      "text/plain": [
       "20196"
      ]
     },
     "execution_count": 327,
     "metadata": {},
     "output_type": "execute_result"
    }
   ],
   "source": [
    "(lines, max_x, max_y) = get_lines_from_file2('day5_input.txt', diagonal=True)\n",
    "matrix = update_matrix2(lines, max_x, max_y)\n",
    "count_danger_points2(matrix, max_x, max_y)"
   ]
  }
 ],
 "metadata": {
  "kernelspec": {
   "display_name": "Python 3 (ipykernel)",
   "language": "python",
   "name": "python3"
  },
  "language_info": {
   "codemirror_mode": {
    "name": "ipython",
    "version": 3
   },
   "file_extension": ".py",
   "mimetype": "text/x-python",
   "name": "python",
   "nbconvert_exporter": "python",
   "pygments_lexer": "ipython3",
   "version": "3.11.7"
  }
 },
 "nbformat": 4,
 "nbformat_minor": 5
}
