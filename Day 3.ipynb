{
 "cells": [
  {
   "cell_type": "markdown",
   "id": "6913ec75-6038-4194-8e85-cc04f8f009cb",
   "metadata": {},
   "source": [
    "# Star 1"
   ]
  },
  {
   "cell_type": "code",
   "execution_count": 1,
   "id": "08e861e1-fca0-4412-ad5c-f6dd5bd6a908",
   "metadata": {},
   "outputs": [],
   "source": [
    "#power consumption = (gamma rate) * (epsilon rate)"
   ]
  },
  {
   "cell_type": "code",
   "execution_count": 9,
   "id": "b05ed08b-8b0f-414d-bc8a-08778097d03b",
   "metadata": {},
   "outputs": [
    {
     "name": "stdout",
     "output_type": "stream",
     "text": [
      "1000 {0: 479, 1: 492, 2: 475, 3: 507, 4: 509, 5: 487, 6: 503, 7: 481, 8: 495, 9: 495, 10: 504, 11: 510}\n"
     ]
    }
   ],
   "source": [
    "bit_counter = {}\n",
    "num_lines = 0 \n",
    "with open(\"day3_input.txt\", \"r\") as f:\n",
    "    for line in f:\n",
    "        for (i,char) in enumerate(line.rstrip()):\n",
    "            #print(i, char)\n",
    "            if i not in bit_counter.keys():\n",
    "                bit_counter[i] = 0\n",
    "            bit_counter[i] += int(char)\n",
    "        num_lines +=1\n",
    "    print(num_lines,bit_counter)\n",
    "            \n"
   ]
  },
  {
   "cell_type": "code",
   "execution_count": 11,
   "id": "de364519-90ef-487d-9936-6dd8b972e460",
   "metadata": {},
   "outputs": [
    {
     "name": "stdout",
     "output_type": "stream",
     "text": [
      "000110100011 111001011100\n"
     ]
    }
   ],
   "source": [
    "gamma_rate = ''\n",
    "epsilon_rate = ''\n",
    "for i in bit_counter:\n",
    "    if (bit_counter[i]>(num_lines/2)):\n",
    "        gamma_rate += '1'\n",
    "        epsilon_rate += '0'\n",
    "    else:\n",
    "        gamma_rate += '0'\n",
    "        epsilon_rate += '1'\n",
    "print(gamma_rate, epsilon_rate)"
   ]
  },
  {
   "cell_type": "code",
   "execution_count": 25,
   "id": "e0b5d14f-bab5-4f4a-a666-3c48d8934da8",
   "metadata": {},
   "outputs": [],
   "source": [
    "def binstr_to_dec(input=''):\n",
    "    output = 0\n",
    "    if input == '':\n",
    "        return 0\n",
    "    else:\n",
    "        for i in range(len(input)):\n",
    "            output += int(input[(len(input))-i-1])*2**i\n",
    "        return output"
   ]
  },
  {
   "cell_type": "code",
   "execution_count": 26,
   "id": "ad3c1166-c0af-4eb4-bc99-9957db3721ee",
   "metadata": {},
   "outputs": [
    {
     "data": {
      "text/plain": [
       "1540244"
      ]
     },
     "execution_count": 26,
     "metadata": {},
     "output_type": "execute_result"
    }
   ],
   "source": [
    "binstr_to_dec(epsilon_rate) * binstr_to_dec(gamma_rate)"
   ]
  },
  {
   "cell_type": "code",
   "execution_count": null,
   "id": "212848a2-bd29-49f1-ac38-9f26ebb3c0c0",
   "metadata": {},
   "outputs": [],
   "source": []
  }
 ],
 "metadata": {
  "kernelspec": {
   "display_name": "Python 3 (ipykernel)",
   "language": "python",
   "name": "python3"
  },
  "language_info": {
   "codemirror_mode": {
    "name": "ipython",
    "version": 3
   },
   "file_extension": ".py",
   "mimetype": "text/x-python",
   "name": "python",
   "nbconvert_exporter": "python",
   "pygments_lexer": "ipython3",
   "version": "3.11.7"
  }
 },
 "nbformat": 4,
 "nbformat_minor": 5
}
