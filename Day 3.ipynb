{
 "cells": [
  {
   "cell_type": "markdown",
   "id": "6913ec75-6038-4194-8e85-cc04f8f009cb",
   "metadata": {},
   "source": [
    "# Star 1"
   ]
  },
  {
   "cell_type": "code",
   "execution_count": 25,
   "id": "08e861e1-fca0-4412-ad5c-f6dd5bd6a908",
   "metadata": {},
   "outputs": [],
   "source": [
    "#power consumption = (gamma rate) * (epsilon rate)"
   ]
  },
  {
   "cell_type": "code",
   "execution_count": 26,
   "id": "b0bcee6f-11b0-4c22-b99c-e7cfdd1dc5a7",
   "metadata": {},
   "outputs": [],
   "source": [
    "def get_list_from_file(filename=''):\n",
    "    binary_list = []\n",
    "    with open(filename, \"r\") as f:\n",
    "        for line in f:\n",
    "            binary_list.append(line.rstrip())\n",
    "        return binary_list"
   ]
  },
  {
   "cell_type": "code",
   "execution_count": 27,
   "id": "0d3ffdaa-6722-4461-97ef-1254ce5df76b",
   "metadata": {},
   "outputs": [],
   "source": [
    "def get_bit_freq_from_list(bin_list=[]):\n",
    "    bit_counter = {}\n",
    "    num_lines = 0\n",
    "    for entry in bin_list:\n",
    "        for (i,char) in enumerate(entry):\n",
    "            if i not in bit_counter.keys():\n",
    "                bit_counter[i] = 0\n",
    "            bit_counter[i] += int(char)\n",
    "        num_lines += 1\n",
    "    return (num_lines,bit_counter)\n",
    "                "
   ]
  },
  {
   "cell_type": "code",
   "execution_count": 28,
   "id": "de364519-90ef-487d-9936-6dd8b972e460",
   "metadata": {},
   "outputs": [],
   "source": [
    "def get_gamma_and_epsilon_rates(num_lines,bit_counter):\n",
    "    gamma_rate = ''\n",
    "    epsilon_rate = ''\n",
    "    for i in bit_counter:\n",
    "        if (bit_counter[i]>(num_lines/2)):\n",
    "            gamma_rate += '1'\n",
    "            epsilon_rate += '0'\n",
    "        else:\n",
    "            gamma_rate += '0'\n",
    "            epsilon_rate += '1'\n",
    "    return(gamma_rate, epsilon_rate)\n"
   ]
  },
  {
   "cell_type": "code",
   "execution_count": 29,
   "id": "e0b5d14f-bab5-4f4a-a666-3c48d8934da8",
   "metadata": {},
   "outputs": [],
   "source": [
    "def binstr_to_dec(input=''):\n",
    "    output = 0\n",
    "    if input == '':\n",
    "        return 0\n",
    "    else:\n",
    "        for i in range(len(input)):\n",
    "            output += int(input[(len(input))-i-1])*2**i\n",
    "        return output"
   ]
  },
  {
   "cell_type": "code",
   "execution_count": 30,
   "id": "ad3c1166-c0af-4eb4-bc99-9957db3721ee",
   "metadata": {},
   "outputs": [
    {
     "data": {
      "text/plain": [
       "1540244"
      ]
     },
     "execution_count": 30,
     "metadata": {},
     "output_type": "execute_result"
    }
   ],
   "source": [
    "(num_lines,bit_counter)=get_bit_freq_from_list(get_list_from_file('day3_input.txt'))\n",
    "(gamma_rate, epsilon_rate) = get_gamma_and_epsilon_rates(num_lines, bit_counter)\n",
    "binstr_to_dec(epsilon_rate) * binstr_to_dec(gamma_rate)"
   ]
  },
  {
   "cell_type": "markdown",
   "id": "05e30871-3ded-49a2-8609-758e4901e6a2",
   "metadata": {},
   "source": [
    "# Star 2"
   ]
  },
  {
   "cell_type": "code",
   "execution_count": 32,
   "id": "db0c83f0-173f-4755-924f-91dcdb4dc303",
   "metadata": {},
   "outputs": [],
   "source": [
    "# life support rating = (oxygen generator rating) * (CO2 scrubber rating)"
   ]
  },
  {
   "cell_type": "code",
   "execution_count": 72,
   "id": "3f2b1732-356a-44ef-8980-8d968fcf4cc0",
   "metadata": {},
   "outputs": [],
   "source": [
    "def get_o2_gen_rating(binary_list):\n",
    "    i = 0\n",
    "    while(i < len(binary_list[0])): # slice thru each of the bit positions at a time\n",
    "        temp_list = []\n",
    "        # need to recalculate this guy everytime for updated bit frequency\n",
    "        (num_lines,bit_counter) = get_bit_freq_from_list(binary_list)\n",
    "        for entry in binary_list:\n",
    "            if (bit_counter[i]>=(num_lines/2)): # 1 is most common char\n",
    "                if entry[i] == '1':\n",
    "                    temp_list.append(entry) # so keep only entries with 1 in this position\n",
    "            else: # 0 is most common char \n",
    "                if entry[i] == '0':\n",
    "                    temp_list.append(entry) # so keep only entries with 0 in this position\n",
    "        binary_list = temp_list[:]\n",
    "        i+=1\n",
    "    return binary_list[0]"
   ]
  },
  {
   "cell_type": "code",
   "execution_count": 77,
   "id": "2ba87809-1380-480a-aeeb-2c1a55f936ea",
   "metadata": {},
   "outputs": [],
   "source": [
    "def get_co2_scrub_rating(binary_list):\n",
    "    i = 0\n",
    "    while((i < len(binary_list[0])) and (len(binary_list) > 1)): # slice thru each of the bit positions at a time\n",
    "        temp_list = []\n",
    "        # need to recalculate this guy everytime for updated bit frequency\n",
    "        (num_lines,bit_counter) = get_bit_freq_from_list(binary_list) \n",
    "        for entry in binary_list:\n",
    "            if (bit_counter[i]>=(num_lines/2)): # 1 is most common char\n",
    "                if entry[i] == '0':\n",
    "                    temp_list.append(entry) # so keep only entries with 0 in this position\n",
    "            else: # 0 is most common char \n",
    "                if entry[i] == '1':\n",
    "                    temp_list.append(entry) # so keep only entries with 0 in this position\n",
    "        binary_list = temp_list[:]\n",
    "        i+=1\n",
    "    return binary_list[0]"
   ]
  },
  {
   "cell_type": "code",
   "execution_count": 78,
   "id": "3a11bfd4-ee46-415c-878b-65f5952e54c2",
   "metadata": {},
   "outputs": [],
   "source": [
    "binary_list = get_list_from_file('day3_input.txt')\n",
    "o2_gen_rating = get_o2_gen_rating(binary_list)"
   ]
  },
  {
   "cell_type": "code",
   "execution_count": 79,
   "id": "e9355a1b-d2dc-4d84-aed0-980cbd42d6ba",
   "metadata": {},
   "outputs": [],
   "source": [
    "binary_list = get_list_from_file('day3_input.txt')\n",
    "co2_scrub_rating = get_co2_scrub_rating(binary_list)"
   ]
  },
  {
   "cell_type": "code",
   "execution_count": 80,
   "id": "a809597b-be0d-43f2-840f-28dfc82250c3",
   "metadata": {},
   "outputs": [
    {
     "data": {
      "text/plain": [
       "4203981"
      ]
     },
     "execution_count": 80,
     "metadata": {},
     "output_type": "execute_result"
    }
   ],
   "source": [
    "binstr_to_dec(o2_gen_rating) * binstr_to_dec(co2_scrub_rating)"
   ]
  },
  {
   "cell_type": "code",
   "execution_count": null,
   "id": "fe327706-9daa-4294-9303-3c64649f5334",
   "metadata": {},
   "outputs": [],
   "source": []
  }
 ],
 "metadata": {
  "kernelspec": {
   "display_name": "Python 3 (ipykernel)",
   "language": "python",
   "name": "python3"
  },
  "language_info": {
   "codemirror_mode": {
    "name": "ipython",
    "version": 3
   },
   "file_extension": ".py",
   "mimetype": "text/x-python",
   "name": "python",
   "nbconvert_exporter": "python",
   "pygments_lexer": "ipython3",
   "version": "3.11.7"
  }
 },
 "nbformat": 4,
 "nbformat_minor": 5
}
