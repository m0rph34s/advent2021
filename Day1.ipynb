{
 "cells": [
  {
   "cell_type": "markdown",
   "id": "a8a85f94-656b-4123-b53b-2749120f9d86",
   "metadata": {},
   "source": [
    "# Star 1"
   ]
  },
  {
   "cell_type": "code",
   "execution_count": 1,
   "id": "a9c22527-6d57-45be-a191-c33445c0881a",
   "metadata": {},
   "outputs": [
    {
     "name": "stdout",
     "output_type": "stream",
     "text": [
      "1527\n"
     ]
    }
   ],
   "source": [
    "incremented=0\n",
    "current=0\n",
    "f= open(\"day1_input.txt\",\"r\")\n",
    "for line in f:\n",
    "    if (int(line)>current):\n",
    "        incremented+=1\n",
    "    current=int(line)\n",
    "print((incremented-1))"
   ]
  },
  {
   "cell_type": "markdown",
   "id": "cc942642-713d-4429-b205-8b1c82e57ad4",
   "metadata": {},
   "source": [
    "# Star 2"
   ]
  },
  {
   "cell_type": "code",
   "execution_count": 9,
   "id": "21c9d70b-0ea6-4cf8-8c61-c0049a882035",
   "metadata": {},
   "outputs": [
    {
     "name": "stdout",
     "output_type": "stream",
     "text": [
      "1575\n"
     ]
    }
   ],
   "source": [
    "incremented=0\n",
    "threesums_current=0\n",
    "\n",
    "with open(\"day1_input.txt\") as f:\n",
    "    measurements = [int(line) for line in f]\n",
    "    for i in range(len(measurements)-2):\n",
    "        if ((measurements[i] + measurements[i+1] + measurements[i+2]) > threesums_current):\n",
    "            incremented += 1\n",
    "        threesums_current = measurements[i] + measurements[i+1] + measurements[i+2]\n",
    "    print(incremented-1)\n",
    "    \n",
    "        "
   ]
  },
  {
   "cell_type": "code",
   "execution_count": null,
   "id": "69bd6935-dfba-4405-a21e-1a317076f686",
   "metadata": {},
   "outputs": [],
   "source": []
  }
 ],
 "metadata": {
  "kernelspec": {
   "display_name": "Python 3 (ipykernel)",
   "language": "python",
   "name": "python3"
  },
  "language_info": {
   "codemirror_mode": {
    "name": "ipython",
    "version": 3
   },
   "file_extension": ".py",
   "mimetype": "text/x-python",
   "name": "python",
   "nbconvert_exporter": "python",
   "pygments_lexer": "ipython3",
   "version": "3.11.7"
  }
 },
 "nbformat": 4,
 "nbformat_minor": 5
}
