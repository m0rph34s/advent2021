{
 "cells": [
  {
   "cell_type": "markdown",
   "id": "cca732ef-58e7-4c38-8e31-19bbe390c59a",
   "metadata": {},
   "source": [
    "# Star 1"
   ]
  },
  {
   "cell_type": "code",
   "execution_count": 126,
   "id": "e378168a-42bc-4916-8017-0ab20d20fb77",
   "metadata": {},
   "outputs": [],
   "source": [
    "def start_lanternfish(fname=\"\"):\n",
    "    nums = []\n",
    "    with open(fname, \"r\") as f:\n",
    "        for line in f:\n",
    "            nums = [int(i) for i in (line.rstrip().split(\",\"))]\n",
    "    return(nums)\n",
    "\n",
    "def propagate_day(lanternfish):\n",
    "    new_lanternfish = []\n",
    "    for i in lanternfish:\n",
    "        # Decrement the lanternfish timer if it's a greater than 0\n",
    "        if (i > 0):\n",
    "            new_lanternfish.append(i - 1)\n",
    "        # Else reset the existing mature lanternfish timer to 6, and append a baby lanternfish with a timer of 8\n",
    "        else:\n",
    "            new_lanternfish.append(6)\n",
    "            new_lanternfish.append(8)\n",
    "    return new_lanternfish\n",
    "\n",
    "def propagate_n_days(days=80, fname=\"day6_input.txt\"):\n",
    "    lanternfish = start_lanternfish(fname)\n",
    "    for i in range(days):\n",
    "        lanternfish = propagate_day(lanternfish)\n",
    "    return len(lanternfish)"
   ]
  },
  {
   "cell_type": "code",
   "execution_count": 139,
   "id": "15fe52e4-0eb2-4517-be8b-000b1535c813",
   "metadata": {},
   "outputs": [
    {
     "data": {
      "text/plain": [
       "371379"
      ]
     },
     "execution_count": 139,
     "metadata": {},
     "output_type": "execute_result"
    }
   ],
   "source": [
    "num_lanternfish = propagate_n_days(days=80, fname=\"day6_input.txt\")\n",
    "num_lanternfish"
   ]
  },
  {
   "cell_type": "markdown",
   "id": "3f54e6b9-cbf6-4d82-9939-a770a1ec32ef",
   "metadata": {},
   "source": [
    "# Star 2"
   ]
  },
  {
   "cell_type": "code",
   "execution_count": 130,
   "id": "34e9f378-3830-4d10-9075-bd0d54c8f993",
   "metadata": {},
   "outputs": [],
   "source": [
    "# Naive function doesn't work cuz too much memory :( in RAM or HDD\n",
    "\n",
    "# 1 element expands by about 1.5x on each iteration\n",
    "\n",
    "# num pufferfish after 80 days = 371379\n",
    "# num pufferfish after 0 days = 300\n",
    "\n",
    "# how much bigger each ONE pufferfish got\n",
    "# 80 day cnt / 0 day cnt = 1,237.93\n",
    "\n",
    "# 256 days / 80 days = about 3 times more\n",
    "# so b/c the first 80 days was x1000,\n",
    "# to get the next 80*3 days, we do\n",
    "# 1000*1000*1000\n",
    "# = 1000000000\n",
    "\n",
    "# to calc how much bigger ALL pufferfish in the starting list got\n",
    "# 300 bills = 300G entries\n",
    "# 64b per entry = 8 bytes per entry\n",
    "# 19,200 billion bits = 2,400billion Bytes = 2.4TBytes (cuz 1 Billion = 1G)"
   ]
  },
  {
   "cell_type": "code",
   "execution_count": 138,
   "id": "abb464e5-a5f5-46f7-a879-0adce6f46545",
   "metadata": {},
   "outputs": [],
   "source": [
    "def convert_list_to_state(my_list=[]):\n",
    "    state = {}\n",
    "    for i in range(9):\n",
    "        state[i] = 0\n",
    "    for i in my_list:\n",
    "        state[i] += 1\n",
    "    return state\n",
    "    \n",
    "def propagate_state(state):\n",
    "    new_state = {}\n",
    "    for i in range(9):\n",
    "        new_state[i] = 0\n",
    "    for (key, value) in state.items():\n",
    "        if (key == 0):\n",
    "            new_state[6] += value\n",
    "            new_state[8] += value\n",
    "        else:\n",
    "            new_state[key - 1] += value\n",
    "    return new_state\n",
    "    \n",
    "def propagate_n_days_smart(state,numdays):\n",
    "    for i in range(numdays):\n",
    "        state = propagate_state(state)\n",
    "    return sum(state.values())"
   ]
  },
  {
   "cell_type": "code",
   "execution_count": 137,
   "id": "65864511-c1b1-4e51-aba2-841f16e363dc",
   "metadata": {},
   "outputs": [
    {
     "data": {
      "text/plain": [
       "1674303997472"
      ]
     },
     "execution_count": 137,
     "metadata": {},
     "output_type": "execute_result"
    }
   ],
   "source": [
    "lanternfish_list = start_lanternfish(fname=\"day6_input.txt\")\n",
    "lanternfish_state_initial = convert_list_to_state(lanternfish_list)\n",
    "propagate_n_days_smart(lanternfish_state_initial,numdays=256)"
   ]
  }
 ],
 "metadata": {
  "kernelspec": {
   "display_name": "Python 3 (ipykernel)",
   "language": "python",
   "name": "python3"
  },
  "language_info": {
   "codemirror_mode": {
    "name": "ipython",
    "version": 3
   },
   "file_extension": ".py",
   "mimetype": "text/x-python",
   "name": "python",
   "nbconvert_exporter": "python",
   "pygments_lexer": "ipython3",
   "version": "3.11.7"
  }
 },
 "nbformat": 4,
 "nbformat_minor": 5
}
