{
 "cells": [
  {
   "cell_type": "code",
   "execution_count": 32,
   "id": "64c77f61-5120-4580-9b86-b5cda3131405",
   "metadata": {},
   "outputs": [],
   "source": [
    "from collections import defaultdict\n",
    "import matplotlib.pyplot as plt"
   ]
  },
  {
   "cell_type": "code",
   "execution_count": 26,
   "id": "e26929fc-d4af-4483-852d-95e5ba7d82c4",
   "metadata": {},
   "outputs": [],
   "source": [
    "def get_horizontal_position_list_from_file(fname = \"day7_input.txt\"):\n",
    "    with open(fname, \"r\") as f:\n",
    "        position_list = [int(i) for i in f.readline().rstrip().split(',')]\n",
    "    return position_list\n",
    "    "
   ]
  },
  {
   "cell_type": "code",
   "execution_count": 54,
   "id": "6d06f2ba-3038-4584-a9b4-ce46b9e7b4fd",
   "metadata": {},
   "outputs": [
    {
     "data": {
      "text/plain": [
       "339"
      ]
     },
     "execution_count": 54,
     "metadata": {},
     "output_type": "execute_result"
    }
   ],
   "source": [
    "crab_positions = get_horizontal_position_list_from_file(fname = \"day7_input.txt\")\n",
    "crab_positions.sort()\n",
    "N = len(crab_positions)\n",
    "median1 = crab_positions[N//2] # 500th element\n",
    "median2 = crab_positions[N//2-1] #499th element\n",
    "median = (median1+median2)//2\n",
    "median"
   ]
  },
  {
   "cell_type": "code",
   "execution_count": 55,
   "id": "a7a36a9f-e7f0-42a6-b039-1399612a22f9",
   "metadata": {},
   "outputs": [
    {
     "name": "stdout",
     "output_type": "stream",
     "text": [
      "defaultdict(<class 'int'>, {0: 4, 1: 9, 2: 4, 3: 2, 4: 1, 5: 4, 6: 3, 7: 1, 8: 3, 9: 2, 10: 7, 11: 5, 12: 1, 13: 4, 14: 1, 15: 3, 17: 1, 19: 3, 20: 3, 21: 1, 22: 2, 23: 1, 24: 3, 25: 1, 26: 3, 27: 1, 28: 4, 29: 5, 31: 1, 32: 8, 33: 2, 34: 2, 35: 6, 36: 3, 37: 1, 38: 1, 39: 3, 40: 2, 41: 5, 42: 1, 43: 3, 45: 1, 46: 1, 47: 4, 48: 1, 49: 1, 50: 1, 51: 1, 52: 3, 55: 3, 59: 1, 60: 1, 61: 2, 62: 1, 63: 2, 64: 3, 65: 7, 66: 2, 67: 6, 68: 4, 69: 3, 70: 1, 71: 2, 72: 2, 73: 1, 74: 1, 75: 2, 76: 1, 77: 2, 78: 3, 80: 3, 81: 2, 82: 2, 84: 1, 86: 2, 87: 1, 88: 1, 90: 1, 91: 2, 92: 2, 94: 1, 95: 1, 96: 1, 97: 3, 99: 3, 100: 2, 101: 7, 103: 2, 104: 2, 105: 4, 106: 2, 108: 4, 109: 4, 110: 3, 111: 4, 112: 3, 113: 2, 114: 3, 115: 5, 116: 2, 117: 2, 118: 1, 119: 1, 120: 1, 121: 2, 122: 1, 126: 1, 127: 2, 129: 1, 131: 1, 132: 1, 133: 1, 134: 1, 136: 5, 138: 1, 140: 2, 142: 1, 143: 3, 144: 2, 145: 1, 146: 1, 147: 2, 148: 1, 149: 1, 151: 1, 155: 1, 156: 3, 157: 1, 158: 2, 160: 2, 162: 1, 163: 1, 165: 4, 167: 1, 168: 2, 169: 1, 170: 1, 173: 1, 174: 1, 175: 4, 178: 1, 179: 1, 181: 2, 182: 1, 183: 1, 184: 1, 185: 1, 186: 1, 187: 1, 188: 4, 191: 1, 193: 3, 194: 2, 196: 1, 201: 3, 205: 3, 206: 1, 207: 1, 209: 1, 210: 2, 211: 1, 212: 3, 214: 2, 215: 1, 216: 1, 217: 3, 221: 3, 222: 1, 223: 2, 225: 2, 230: 3, 231: 1, 234: 1, 235: 2, 236: 3, 237: 1, 238: 3, 239: 2, 240: 1, 241: 2, 243: 3, 244: 1, 245: 2, 246: 2, 247: 2, 249: 1, 251: 1, 252: 2, 254: 1, 255: 1, 256: 1, 258: 2, 259: 1, 260: 2, 262: 1, 263: 1, 264: 2, 267: 1, 268: 2, 270: 1, 272: 3, 273: 1, 276: 2, 277: 1, 278: 1, 279: 1, 280: 5, 281: 1, 282: 3, 284: 1, 285: 3, 287: 2, 288: 1, 290: 2, 291: 1, 292: 1, 293: 1, 294: 2, 295: 4, 297: 1, 298: 1, 302: 1, 303: 1, 304: 1, 305: 5, 306: 1, 307: 1, 309: 2, 310: 1, 311: 1, 312: 1, 313: 2, 314: 1, 316: 2, 318: 3, 319: 1, 320: 3, 322: 1, 323: 2, 324: 3, 326: 2, 328: 1, 332: 1, 334: 1, 335: 1, 338: 1, 339: 2, 341: 1, 342: 1, 343: 3, 345: 1, 347: 2, 349: 1, 353: 1, 354: 1, 356: 2, 360: 1, 361: 3, 362: 3, 363: 1, 365: 2, 366: 1, 367: 1, 368: 1, 370: 1, 371: 2, 373: 1, 378: 3, 379: 2, 380: 1, 381: 2, 383: 1, 387: 1, 389: 1, 391: 1, 392: 1, 393: 1, 396: 2, 397: 1, 398: 1, 400: 3, 402: 1, 406: 1, 409: 1, 410: 1, 411: 1, 412: 1, 413: 1, 417: 2, 418: 1, 419: 1, 420: 2, 422: 1, 423: 1, 430: 2, 434: 2, 438: 2, 440: 2, 445: 1, 447: 1, 448: 1, 450: 1, 451: 1, 452: 1, 453: 1, 454: 1, 455: 2, 456: 1, 457: 1, 459: 2, 460: 1, 462: 1, 464: 1, 465: 1, 467: 1, 468: 1, 469: 1, 470: 1, 471: 1, 472: 1, 473: 2, 475: 3, 476: 1, 479: 1, 481: 3, 482: 2, 484: 2, 485: 2, 490: 2, 492: 2, 493: 1, 496: 1, 498: 1, 499: 1, 500: 2, 503: 2, 506: 1, 507: 1, 509: 1, 512: 2, 513: 3, 515: 1, 518: 2, 519: 1, 520: 1, 521: 1, 522: 1, 524: 2, 526: 2, 528: 1, 529: 2, 531: 2, 534: 2, 537: 2, 538: 1, 539: 1, 540: 1, 543: 1, 545: 2, 548: 1, 550: 3, 551: 2, 552: 1, 554: 3, 555: 1, 558: 1, 561: 1, 563: 1, 566: 2, 567: 1, 568: 1, 570: 3, 571: 1, 574: 1, 576: 1, 580: 1, 581: 1, 582: 1, 585: 1, 592: 1, 594: 1, 595: 1, 596: 1, 600: 1, 605: 2, 609: 1, 612: 1, 618: 1, 625: 1, 626: 1, 627: 1, 629: 2, 632: 1, 633: 1, 634: 1, 638: 1, 642: 1, 643: 1, 644: 1, 648: 1, 649: 1, 651: 1, 652: 1, 653: 2, 656: 2, 658: 1, 659: 1, 660: 1, 662: 1, 667: 1, 668: 1, 669: 1, 671: 1, 676: 2, 677: 1, 678: 3, 681: 2, 684: 1, 685: 1, 690: 1, 692: 1, 694: 1, 695: 1, 698: 1, 704: 2, 705: 1, 712: 1, 714: 1, 715: 1, 716: 3, 721: 1, 722: 2, 725: 1, 727: 2, 728: 1, 731: 1, 732: 1, 734: 1, 735: 1, 737: 3, 739: 2, 740: 1, 743: 2, 745: 1, 747: 1, 748: 1, 749: 1, 752: 1, 754: 2, 757: 1, 759: 1, 761: 1, 765: 1, 767: 3, 771: 1, 772: 1, 775: 2, 776: 2, 777: 1, 779: 1, 783: 1, 791: 1, 795: 1, 796: 1, 797: 1, 799: 2, 800: 1, 802: 2, 806: 1, 808: 1, 810: 1, 811: 1, 814: 1, 815: 2, 821: 1, 823: 1, 829: 1, 836: 1, 837: 2, 839: 1, 840: 2, 841: 1, 842: 1, 844: 1, 853: 1, 857: 1, 860: 1, 861: 1, 862: 1, 864: 2, 865: 3, 868: 1, 870: 1, 880: 1, 885: 1, 890: 1, 893: 1, 899: 1, 902: 1, 904: 1, 906: 1, 910: 1, 912: 2, 915: 1, 919: 1, 921: 1, 923: 2, 937: 1, 942: 1, 943: 2, 944: 2, 949: 1, 958: 1, 959: 1, 963: 1, 964: 1, 970: 1, 971: 1, 972: 1, 975: 1, 976: 1, 981: 1, 985: 1, 986: 1, 989: 1, 991: 1, 992: 1, 993: 1, 998: 1, 1000: 1, 1001: 2, 1005: 1, 1008: 1, 1010: 2, 1012: 1, 1023: 2, 1024: 1, 1032: 1, 1040: 1, 1041: 2, 1047: 1, 1050: 1, 1053: 1, 1056: 1, 1066: 1, 1067: 1, 1068: 1, 1072: 1, 1082: 1, 1092: 2, 1101: 1, 1102: 1, 1104: 1, 1106: 1, 1113: 1, 1118: 1, 1119: 1, 1125: 1, 1133: 1, 1148: 1, 1149: 1, 1160: 1, 1162: 1, 1165: 1, 1167: 1, 1170: 1, 1174: 1, 1180: 2, 1186: 1, 1196: 1, 1198: 1, 1202: 1, 1203: 1, 1204: 1, 1207: 1, 1212: 1, 1215: 1, 1216: 1, 1218: 2, 1233: 1, 1237: 1, 1240: 1, 1243: 1, 1250: 1, 1258: 1, 1270: 1, 1276: 1, 1277: 1, 1280: 1, 1284: 1, 1285: 1, 1290: 1, 1294: 1, 1302: 1, 1307: 1, 1317: 1, 1332: 1, 1345: 1, 1347: 1, 1349: 1, 1390: 1, 1392: 1, 1395: 1, 1398: 1, 1406: 1, 1409: 1, 1410: 1, 1416: 1, 1417: 1, 1430: 1, 1432: 1, 1440: 1, 1447: 1, 1452: 1, 1465: 1, 1476: 1, 1478: 1, 1482: 1, 1496: 1, 1497: 1, 1517: 1, 1523: 1, 1544: 2, 1546: 1, 1549: 1, 1555: 1, 1560: 1, 1588: 1, 1602: 1, 1607: 1, 1611: 1, 1635: 1, 1652: 1, 1658: 1, 1678: 1, 1679: 1, 1733: 1, 1745: 1, 1758: 1, 1760: 2, 1789: 2, 1803: 1, 1814: 1, 1829: 1, 1855: 1, 1862: 1})\n"
     ]
    }
   ],
   "source": [
    "positions_freq_bins = defaultdict(int)\n",
    "for i in crab_positions:\n",
    "    positions_freq_bins[i] +=1\n",
    "print(positions_freq_bins)"
   ]
  },
  {
   "cell_type": "code",
   "execution_count": 56,
   "id": "6e9c434a-02d1-4925-99ef-dcd1497c4ef3",
   "metadata": {},
   "outputs": [
    {
     "data": {
      "text/plain": [
       "[<matplotlib.lines.Line2D at 0x2cd312c1450>]"
      ]
     },
     "execution_count": 56,
     "metadata": {},
     "output_type": "execute_result"
    },
    {
     "data": {
      "image/png": "[encoded data removed]",
      "text/plain": [
       "<Figure size 640x480 with 1 Axes>"
      ]
     },
     "metadata": {},
     "output_type": "display_data"
    }
   ],
   "source": [
    "plt.plot(positions_freq_bins.keys(), positions_freq_bins.values(), label = \"Frequency of a given position\")"
   ]
  },
  {
   "cell_type": "code",
   "execution_count": 57,
   "id": "dc569776-3fa8-4b27-a230-18e1126f4b0b",
   "metadata": {},
   "outputs": [
    {
     "name": "stdout",
     "output_type": "stream",
     "text": [
      "328318\n"
     ]
    }
   ],
   "source": [
    "total_fuel_consumed = 0\n",
    "for i in crab_positions:\n",
    "    total_fuel_consumed += abs(median-i)\n",
    "print(total_fuel_consumed)"
   ]
  },
  {
   "cell_type": "code",
   "execution_count": 48,
   "id": "aecc6e92-19d7-4d1c-b307-eb4e2e6a6936",
   "metadata": {},
   "outputs": [],
   "source": [
    "def CostSimple(x1, x2):\n",
    "    return abs(x2-x1)"
   ]
  },
  {
   "cell_type": "code",
   "execution_count": 49,
   "id": "dbef615a-0f80-42f9-867e-b12838fcf564",
   "metadata": {},
   "outputs": [],
   "source": [
    "def CostNonconstant(x1, x2):\n",
    "    delta = abs(x2-x1)\n",
    "    return 0.5 * delta * (delta+1)"
   ]
  },
  {
   "cell_type": "code",
   "execution_count": 50,
   "id": "e2f35f8f-9d79-40a8-b17a-f442359f2cb8",
   "metadata": {},
   "outputs": [],
   "source": [
    "def TotalCost(x):\n",
    "    sum=0\n",
    "    for i in crab_positions:\n",
    "        #sum += CostSimple(i, x)\n",
    "        sum += CostNonconstant(i, x)\n",
    "    return sum"
   ]
  },
  {
   "cell_type": "code",
   "execution_count": 51,
   "id": "aaaccbe3-e814-47f8-9c41-3f549c569324",
   "metadata": {},
   "outputs": [],
   "source": [
    "xrange = range(0,2000)"
   ]
  },
  {
   "cell_type": "code",
   "execution_count": 53,
   "id": "00d3cbff-41e7-4726-8dc3-68f91dbabff4",
   "metadata": {},
   "outputs": [
    {
     "data": {
      "text/plain": [
       "89791146.0"
      ]
     },
     "execution_count": 53,
     "metadata": {},
     "output_type": "execute_result"
    }
   ],
   "source": [
    "costs_array = []\n",
    "for x in xrange:\n",
    "    #print(x,TotalCost(x))\n",
    "    costs_array.append(TotalCost(x))\n",
    "min(costs_array)"
   ]
  },
  {
   "cell_type": "code",
   "execution_count": null,
   "id": "25f95592-9222-4460-b470-2bfcf1ad24e4",
   "metadata": {},
   "outputs": [],
   "source": []
  }
 ],
 "metadata": {
  "kernelspec": {
   "display_name": "Python 3 (ipykernel)",
   "language": "python",
   "name": "python3"
  },
  "language_info": {
   "codemirror_mode": {
    "name": "ipython",
    "version": 3
   },
   "file_extension": ".py",
   "mimetype": "text/x-python",
   "name": "python",
   "nbconvert_exporter": "python",
   "pygments_lexer": "ipython3",
   "version": "3.11.7"
  }
 },
 "nbformat": 4,
 "nbformat_minor": 5
}
